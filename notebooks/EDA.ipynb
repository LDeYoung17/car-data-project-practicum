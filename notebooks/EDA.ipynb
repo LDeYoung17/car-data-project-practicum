{
 "cells": [
  {
   "cell_type": "code",
   "execution_count": 1,
   "metadata": {},
   "outputs": [],
   "source": [
    "import pandas as pd\n",
    "import numpy as np\n",
    "from matplotlib import pyplot as plt\n",
    "from scipy import stats as st\n",
    "from math import factorial as ft \n",
    "import plotly_express"
   ]
  },
  {
   "cell_type": "code",
   "execution_count": 2,
   "metadata": {},
   "outputs": [
    {
     "data": {
      "text/html": [
       "<div>\n",
       "<style scoped>\n",
       "    .dataframe tbody tr th:only-of-type {\n",
       "        vertical-align: middle;\n",
       "    }\n",
       "\n",
       "    .dataframe tbody tr th {\n",
       "        vertical-align: top;\n",
       "    }\n",
       "\n",
       "    .dataframe thead th {\n",
       "        text-align: right;\n",
       "    }\n",
       "</style>\n",
       "<table border=\"1\" class=\"dataframe\">\n",
       "  <thead>\n",
       "    <tr style=\"text-align: right;\">\n",
       "      <th></th>\n",
       "      <th>price</th>\n",
       "      <th>model_year</th>\n",
       "      <th>model</th>\n",
       "      <th>condition</th>\n",
       "      <th>cylinders</th>\n",
       "      <th>fuel</th>\n",
       "      <th>odometer</th>\n",
       "      <th>transmission</th>\n",
       "      <th>type</th>\n",
       "      <th>paint_color</th>\n",
       "      <th>is_4wd</th>\n",
       "      <th>date_posted</th>\n",
       "      <th>days_listed</th>\n",
       "    </tr>\n",
       "  </thead>\n",
       "  <tbody>\n",
       "    <tr>\n",
       "      <th>0</th>\n",
       "      <td>9400</td>\n",
       "      <td>2011.0</td>\n",
       "      <td>bmw x5</td>\n",
       "      <td>good</td>\n",
       "      <td>6.0</td>\n",
       "      <td>gas</td>\n",
       "      <td>145000.0</td>\n",
       "      <td>automatic</td>\n",
       "      <td>SUV</td>\n",
       "      <td>NaN</td>\n",
       "      <td>1.0</td>\n",
       "      <td>2018-06-23</td>\n",
       "      <td>19</td>\n",
       "    </tr>\n",
       "    <tr>\n",
       "      <th>1</th>\n",
       "      <td>25500</td>\n",
       "      <td>NaN</td>\n",
       "      <td>ford f-150</td>\n",
       "      <td>good</td>\n",
       "      <td>6.0</td>\n",
       "      <td>gas</td>\n",
       "      <td>88705.0</td>\n",
       "      <td>automatic</td>\n",
       "      <td>pickup</td>\n",
       "      <td>white</td>\n",
       "      <td>1.0</td>\n",
       "      <td>2018-10-19</td>\n",
       "      <td>50</td>\n",
       "    </tr>\n",
       "    <tr>\n",
       "      <th>2</th>\n",
       "      <td>5500</td>\n",
       "      <td>2013.0</td>\n",
       "      <td>hyundai sonata</td>\n",
       "      <td>like new</td>\n",
       "      <td>4.0</td>\n",
       "      <td>gas</td>\n",
       "      <td>110000.0</td>\n",
       "      <td>automatic</td>\n",
       "      <td>sedan</td>\n",
       "      <td>red</td>\n",
       "      <td>NaN</td>\n",
       "      <td>2019-02-07</td>\n",
       "      <td>79</td>\n",
       "    </tr>\n",
       "    <tr>\n",
       "      <th>3</th>\n",
       "      <td>1500</td>\n",
       "      <td>2003.0</td>\n",
       "      <td>ford f-150</td>\n",
       "      <td>fair</td>\n",
       "      <td>8.0</td>\n",
       "      <td>gas</td>\n",
       "      <td>NaN</td>\n",
       "      <td>automatic</td>\n",
       "      <td>pickup</td>\n",
       "      <td>NaN</td>\n",
       "      <td>NaN</td>\n",
       "      <td>2019-03-22</td>\n",
       "      <td>9</td>\n",
       "    </tr>\n",
       "    <tr>\n",
       "      <th>4</th>\n",
       "      <td>14900</td>\n",
       "      <td>2017.0</td>\n",
       "      <td>chrysler 200</td>\n",
       "      <td>excellent</td>\n",
       "      <td>4.0</td>\n",
       "      <td>gas</td>\n",
       "      <td>80903.0</td>\n",
       "      <td>automatic</td>\n",
       "      <td>sedan</td>\n",
       "      <td>black</td>\n",
       "      <td>NaN</td>\n",
       "      <td>2019-04-02</td>\n",
       "      <td>28</td>\n",
       "    </tr>\n",
       "  </tbody>\n",
       "</table>\n",
       "</div>"
      ],
      "text/plain": [
       "   price  model_year           model  condition  cylinders fuel  odometer  \\\n",
       "0   9400      2011.0          bmw x5       good        6.0  gas  145000.0   \n",
       "1  25500         NaN      ford f-150       good        6.0  gas   88705.0   \n",
       "2   5500      2013.0  hyundai sonata   like new        4.0  gas  110000.0   \n",
       "3   1500      2003.0      ford f-150       fair        8.0  gas       NaN   \n",
       "4  14900      2017.0    chrysler 200  excellent        4.0  gas   80903.0   \n",
       "\n",
       "  transmission    type paint_color  is_4wd date_posted  days_listed  \n",
       "0    automatic     SUV         NaN     1.0  2018-06-23           19  \n",
       "1    automatic  pickup       white     1.0  2018-10-19           50  \n",
       "2    automatic   sedan         red     NaN  2019-02-07           79  \n",
       "3    automatic  pickup         NaN     NaN  2019-03-22            9  \n",
       "4    automatic   sedan       black     NaN  2019-04-02           28  "
      ]
     },
     "metadata": {},
     "output_type": "display_data"
    },
    {
     "name": "stdout",
     "output_type": "stream",
     "text": [
      "<class 'pandas.core.frame.DataFrame'>\n",
      "RangeIndex: 51525 entries, 0 to 51524\n",
      "Data columns (total 13 columns):\n",
      " #   Column        Non-Null Count  Dtype  \n",
      "---  ------        --------------  -----  \n",
      " 0   price         51525 non-null  int64  \n",
      " 1   model_year    47906 non-null  float64\n",
      " 2   model         51525 non-null  object \n",
      " 3   condition     51525 non-null  object \n",
      " 4   cylinders     46265 non-null  float64\n",
      " 5   fuel          51525 non-null  object \n",
      " 6   odometer      43633 non-null  float64\n",
      " 7   transmission  51525 non-null  object \n",
      " 8   type          51525 non-null  object \n",
      " 9   paint_color   42258 non-null  object \n",
      " 10  is_4wd        25572 non-null  float64\n",
      " 11  date_posted   51525 non-null  object \n",
      " 12  days_listed   51525 non-null  int64  \n",
      "dtypes: float64(4), int64(2), object(7)\n",
      "memory usage: 5.1+ MB\n"
     ]
    }
   ],
   "source": [
    "car_data = pd.read_csv('/Users/leahdeyoung/Desktop/GitHub/car-data-project-practicum/vehicles_us.csv', encoding = \"utf-8\")\n",
    "\n",
    "display(car_data.head())\n",
    "car_data.info()\n"
   ]
  },
  {
   "cell_type": "code",
   "execution_count": 3,
   "metadata": {},
   "outputs": [
    {
     "name": "stdout",
     "output_type": "stream",
     "text": [
      "3619\n",
      "0\n"
     ]
    }
   ],
   "source": [
    "print(car_data['model_year'].isna().sum())\n",
    "car_data['model_year'] = car_data['model_year'].fillna(0)\n",
    "car_data['model_year'] = car_data['model_year'].astype('int')\n",
    "print(car_data['model_year'].isna().sum())"
   ]
  },
  {
   "cell_type": "code",
   "execution_count": 4,
   "metadata": {},
   "outputs": [
    {
     "name": "stdout",
     "output_type": "stream",
     "text": [
      "9267\n",
      "0\n"
     ]
    }
   ],
   "source": [
    "print(car_data['paint_color'].isna().sum())\n",
    "car_data['paint_color'] = car_data['paint_color'].fillna('Unknown')\n",
    "print(car_data['paint_color'].isna().sum())"
   ]
  },
  {
   "cell_type": "code",
   "execution_count": 5,
   "metadata": {},
   "outputs": [
    {
     "name": "stdout",
     "output_type": "stream",
     "text": [
      "5260\n",
      "0\n"
     ]
    }
   ],
   "source": [
    "print(car_data['cylinders'].isna().sum())\n",
    "car_data['cylinders'] = car_data['cylinders'].fillna(0)\n",
    "car_data['cylinders'] = car_data['cylinders'].astype('int')\n",
    "print(car_data['cylinders'].isna().sum())"
   ]
  },
  {
   "cell_type": "code",
   "execution_count": 6,
   "metadata": {},
   "outputs": [
    {
     "name": "stdout",
     "output_type": "stream",
     "text": [
      "7892\n",
      "0\n"
     ]
    }
   ],
   "source": [
    "print(car_data['odometer'].isna().sum())\n",
    "car_data['odometer'] = car_data['odometer'].fillna(111111111)\n",
    "car_data['odometer'] = car_data['odometer'].astype('int')\n",
    "print(car_data['odometer'].isna().sum())"
   ]
  },
  {
   "cell_type": "code",
   "execution_count": 7,
   "metadata": {},
   "outputs": [
    {
     "name": "stdout",
     "output_type": "stream",
     "text": [
      "25953\n",
      "0\n"
     ]
    }
   ],
   "source": [
    "print(car_data['is_4wd'].isna().sum())\n",
    "car_data['is_4wd'] = car_data['is_4wd'].fillna(0)\n",
    "car_data['is_4wd'] = car_data['is_4wd'].astype('int')\n",
    "print(car_data['is_4wd'].isna().sum())"
   ]
  },
  {
   "cell_type": "code",
   "execution_count": 8,
   "metadata": {},
   "outputs": [
    {
     "data": {
      "text/html": [
       "<div>\n",
       "<style scoped>\n",
       "    .dataframe tbody tr th:only-of-type {\n",
       "        vertical-align: middle;\n",
       "    }\n",
       "\n",
       "    .dataframe tbody tr th {\n",
       "        vertical-align: top;\n",
       "    }\n",
       "\n",
       "    .dataframe thead th {\n",
       "        text-align: right;\n",
       "    }\n",
       "</style>\n",
       "<table border=\"1\" class=\"dataframe\">\n",
       "  <thead>\n",
       "    <tr style=\"text-align: right;\">\n",
       "      <th></th>\n",
       "      <th>price</th>\n",
       "      <th>model_year</th>\n",
       "      <th>model</th>\n",
       "      <th>condition</th>\n",
       "      <th>cylinders</th>\n",
       "      <th>fuel</th>\n",
       "      <th>odometer</th>\n",
       "      <th>transmission</th>\n",
       "      <th>type</th>\n",
       "      <th>paint_color</th>\n",
       "      <th>is_4wd</th>\n",
       "      <th>date_posted</th>\n",
       "      <th>days_listed</th>\n",
       "    </tr>\n",
       "  </thead>\n",
       "  <tbody>\n",
       "    <tr>\n",
       "      <th>27432</th>\n",
       "      <td>12995</td>\n",
       "      <td>2002</td>\n",
       "      <td>gmc sierra 2500hd</td>\n",
       "      <td>good</td>\n",
       "      <td>8</td>\n",
       "      <td>diesel</td>\n",
       "      <td>141345</td>\n",
       "      <td>automatic</td>\n",
       "      <td>truck</td>\n",
       "      <td>custom</td>\n",
       "      <td>1</td>\n",
       "      <td>2018-11-14</td>\n",
       "      <td>14</td>\n",
       "    </tr>\n",
       "    <tr>\n",
       "      <th>26093</th>\n",
       "      <td>32750</td>\n",
       "      <td>2017</td>\n",
       "      <td>ford f250 super duty</td>\n",
       "      <td>like new</td>\n",
       "      <td>8</td>\n",
       "      <td>gas</td>\n",
       "      <td>42631</td>\n",
       "      <td>automatic</td>\n",
       "      <td>truck</td>\n",
       "      <td>white</td>\n",
       "      <td>1</td>\n",
       "      <td>2018-12-08</td>\n",
       "      <td>19</td>\n",
       "    </tr>\n",
       "    <tr>\n",
       "      <th>28893</th>\n",
       "      <td>9500</td>\n",
       "      <td>2013</td>\n",
       "      <td>toyota camry</td>\n",
       "      <td>excellent</td>\n",
       "      <td>4</td>\n",
       "      <td>gas</td>\n",
       "      <td>111111111</td>\n",
       "      <td>automatic</td>\n",
       "      <td>sedan</td>\n",
       "      <td>grey</td>\n",
       "      <td>0</td>\n",
       "      <td>2019-04-09</td>\n",
       "      <td>18</td>\n",
       "    </tr>\n",
       "    <tr>\n",
       "      <th>35597</th>\n",
       "      <td>12900</td>\n",
       "      <td>2014</td>\n",
       "      <td>subaru forester</td>\n",
       "      <td>good</td>\n",
       "      <td>4</td>\n",
       "      <td>gas</td>\n",
       "      <td>82180</td>\n",
       "      <td>automatic</td>\n",
       "      <td>SUV</td>\n",
       "      <td>Unknown</td>\n",
       "      <td>1</td>\n",
       "      <td>2019-03-11</td>\n",
       "      <td>90</td>\n",
       "    </tr>\n",
       "    <tr>\n",
       "      <th>39983</th>\n",
       "      <td>3850</td>\n",
       "      <td>2002</td>\n",
       "      <td>chevrolet silverado 1500</td>\n",
       "      <td>good</td>\n",
       "      <td>8</td>\n",
       "      <td>gas</td>\n",
       "      <td>250000</td>\n",
       "      <td>automatic</td>\n",
       "      <td>pickup</td>\n",
       "      <td>blue</td>\n",
       "      <td>0</td>\n",
       "      <td>2019-03-12</td>\n",
       "      <td>30</td>\n",
       "    </tr>\n",
       "    <tr>\n",
       "      <th>28868</th>\n",
       "      <td>59995</td>\n",
       "      <td>2018</td>\n",
       "      <td>ram 2500</td>\n",
       "      <td>like new</td>\n",
       "      <td>6</td>\n",
       "      <td>diesel</td>\n",
       "      <td>22635</td>\n",
       "      <td>automatic</td>\n",
       "      <td>truck</td>\n",
       "      <td>white</td>\n",
       "      <td>1</td>\n",
       "      <td>2018-08-25</td>\n",
       "      <td>83</td>\n",
       "    </tr>\n",
       "    <tr>\n",
       "      <th>26969</th>\n",
       "      <td>14995</td>\n",
       "      <td>2007</td>\n",
       "      <td>ram 2500</td>\n",
       "      <td>good</td>\n",
       "      <td>6</td>\n",
       "      <td>diesel</td>\n",
       "      <td>348113</td>\n",
       "      <td>automatic</td>\n",
       "      <td>truck</td>\n",
       "      <td>grey</td>\n",
       "      <td>1</td>\n",
       "      <td>2018-07-08</td>\n",
       "      <td>9</td>\n",
       "    </tr>\n",
       "    <tr>\n",
       "      <th>811</th>\n",
       "      <td>21900</td>\n",
       "      <td>2016</td>\n",
       "      <td>nissan frontier crew cab sv</td>\n",
       "      <td>good</td>\n",
       "      <td>6</td>\n",
       "      <td>gas</td>\n",
       "      <td>4998</td>\n",
       "      <td>other</td>\n",
       "      <td>pickup</td>\n",
       "      <td>white</td>\n",
       "      <td>0</td>\n",
       "      <td>2019-03-02</td>\n",
       "      <td>52</td>\n",
       "    </tr>\n",
       "    <tr>\n",
       "      <th>11140</th>\n",
       "      <td>15499</td>\n",
       "      <td>2018</td>\n",
       "      <td>honda civic</td>\n",
       "      <td>like new</td>\n",
       "      <td>4</td>\n",
       "      <td>gas</td>\n",
       "      <td>40000</td>\n",
       "      <td>manual</td>\n",
       "      <td>sedan</td>\n",
       "      <td>Unknown</td>\n",
       "      <td>0</td>\n",
       "      <td>2018-06-20</td>\n",
       "      <td>14</td>\n",
       "    </tr>\n",
       "    <tr>\n",
       "      <th>26049</th>\n",
       "      <td>18699</td>\n",
       "      <td>2011</td>\n",
       "      <td>gmc sierra 1500</td>\n",
       "      <td>like new</td>\n",
       "      <td>8</td>\n",
       "      <td>gas</td>\n",
       "      <td>104000</td>\n",
       "      <td>automatic</td>\n",
       "      <td>truck</td>\n",
       "      <td>white</td>\n",
       "      <td>1</td>\n",
       "      <td>2018-10-10</td>\n",
       "      <td>96</td>\n",
       "    </tr>\n",
       "  </tbody>\n",
       "</table>\n",
       "</div>"
      ],
      "text/plain": [
       "       price  model_year                        model  condition  cylinders  \\\n",
       "27432  12995        2002            gmc sierra 2500hd       good          8   \n",
       "26093  32750        2017         ford f250 super duty   like new          8   \n",
       "28893   9500        2013                 toyota camry  excellent          4   \n",
       "35597  12900        2014              subaru forester       good          4   \n",
       "39983   3850        2002     chevrolet silverado 1500       good          8   \n",
       "28868  59995        2018                     ram 2500   like new          6   \n",
       "26969  14995        2007                     ram 2500       good          6   \n",
       "811    21900        2016  nissan frontier crew cab sv       good          6   \n",
       "11140  15499        2018                  honda civic   like new          4   \n",
       "26049  18699        2011              gmc sierra 1500   like new          8   \n",
       "\n",
       "         fuel   odometer transmission    type paint_color  is_4wd date_posted  \\\n",
       "27432  diesel     141345    automatic   truck      custom       1  2018-11-14   \n",
       "26093     gas      42631    automatic   truck       white       1  2018-12-08   \n",
       "28893     gas  111111111    automatic   sedan        grey       0  2019-04-09   \n",
       "35597     gas      82180    automatic     SUV     Unknown       1  2019-03-11   \n",
       "39983     gas     250000    automatic  pickup        blue       0  2019-03-12   \n",
       "28868  diesel      22635    automatic   truck       white       1  2018-08-25   \n",
       "26969  diesel     348113    automatic   truck        grey       1  2018-07-08   \n",
       "811       gas       4998        other  pickup       white       0  2019-03-02   \n",
       "11140     gas      40000       manual   sedan     Unknown       0  2018-06-20   \n",
       "26049     gas     104000    automatic   truck       white       1  2018-10-10   \n",
       "\n",
       "       days_listed  \n",
       "27432           14  \n",
       "26093           19  \n",
       "28893           18  \n",
       "35597           90  \n",
       "39983           30  \n",
       "28868           83  \n",
       "26969            9  \n",
       "811             52  \n",
       "11140           14  \n",
       "26049           96  "
      ]
     },
     "metadata": {},
     "output_type": "display_data"
    },
    {
     "name": "stdout",
     "output_type": "stream",
     "text": [
      "<class 'pandas.core.frame.DataFrame'>\n",
      "RangeIndex: 51525 entries, 0 to 51524\n",
      "Data columns (total 13 columns):\n",
      " #   Column        Non-Null Count  Dtype \n",
      "---  ------        --------------  ----- \n",
      " 0   price         51525 non-null  int64 \n",
      " 1   model_year    51525 non-null  int64 \n",
      " 2   model         51525 non-null  object\n",
      " 3   condition     51525 non-null  object\n",
      " 4   cylinders     51525 non-null  int64 \n",
      " 5   fuel          51525 non-null  object\n",
      " 6   odometer      51525 non-null  int64 \n",
      " 7   transmission  51525 non-null  object\n",
      " 8   type          51525 non-null  object\n",
      " 9   paint_color   51525 non-null  object\n",
      " 10  is_4wd        51525 non-null  int64 \n",
      " 11  date_posted   51525 non-null  object\n",
      " 12  days_listed   51525 non-null  int64 \n",
      "dtypes: int64(6), object(7)\n",
      "memory usage: 5.1+ MB\n"
     ]
    }
   ],
   "source": [
    "display(car_data.sample(10))\n",
    "car_data.info()"
   ]
  },
  {
   "cell_type": "code",
   "execution_count": 9,
   "metadata": {},
   "outputs": [
    {
     "name": "stdout",
     "output_type": "stream",
     "text": [
      "['gas' 'diesel' 'other' 'hybrid' 'electric']\n",
      "['automatic' 'manual' 'other']\n",
      "['SUV' 'pickup' 'sedan' 'truck' 'coupe' 'van' 'convertible' 'hatchback'\n",
      " 'wagon' 'mini-van' 'other' 'offroad' 'bus']\n"
     ]
    }
   ],
   "source": [
    "print(car_data['fuel'].unique())\n",
    "print(car_data['transmission'].unique())\n",
    "print(car_data['type'].unique())"
   ]
  },
  {
   "cell_type": "code",
   "execution_count": 36,
   "metadata": {},
   "outputs": [
    {
     "name": "stdout",
     "output_type": "stream",
     "text": [
      "fuel      transmission\n",
      "diesel    automatic       22994.609644\n",
      "          manual          14344.415094\n",
      "          other           21649.944444\n",
      "electric  automatic        7033.500000\n",
      "gas       automatic       11206.104465\n",
      "          manual           9524.454058\n",
      "          other           17578.925990\n",
      "hybrid    automatic        7537.062657\n",
      "          manual           2350.000000\n",
      "          other            7085.000000\n",
      "other     automatic       14662.887500\n",
      "          manual          16366.666667\n",
      "          other           24747.800000\n",
      "Name: price, dtype: float64\n"
     ]
    },
    {
     "data": {
      "image/png": "[encoded data removed]",
      "text/plain": [
       "<Figure size 640x480 with 1 Axes>"
      ]
     },
     "metadata": {},
     "output_type": "display_data"
    }
   ],
   "source": [
    "grp = car_data.groupby(['fuel', 'transmission'])\n",
    "car_fuel_transmission = grp['price'].mean()\n",
    "print(car_fuel_transmission)\n",
    "car_fuel_transmission.plot(kind='hist',\n",
    "                           title='Average Price for Fuel Type and Transmission',\n",
    "                           color='forestgreen',\n",
    "                           bins=5,\n",
    "                           alpha=0.5)\n",
    "plt.show()"
   ]
  },
  {
   "cell_type": "code",
   "execution_count": 38,
   "metadata": {},
   "outputs": [
    {
     "name": "stdout",
     "output_type": "stream",
     "text": [
      "fuel      type     \n",
      "diesel    SUV          15732.822222\n",
      "          coupe         9419.000000\n",
      "          hatchback     8700.000000\n",
      "          other        25059.714286\n",
      "          pickup       22355.077634\n",
      "          sedan        10297.236715\n",
      "          truck        23710.908341\n",
      "          van          33532.558140\n",
      "          wagon         5679.600000\n",
      "electric  hatchback     9850.000000\n",
      "          other         4400.000000\n",
      "          sedan         7900.000000\n",
      "          truck         5100.500000\n",
      "gas       SUV          11138.132042\n",
      "          bus          17135.666667\n",
      "Name: price, dtype: float64\n"
     ]
    },
    {
     "data": {
      "image/png": "[encoded data removed]",
      "text/plain": [
       "<Figure size 640x480 with 1 Axes>"
      ]
     },
     "metadata": {},
     "output_type": "display_data"
    }
   ],
   "source": [
    "grp2 = car_data.groupby(['fuel', 'type'])\n",
    "car_type = grp2['price'].mean()\n",
    "\n",
    "print(car_type.head(15))\n",
    "car_type.plot(kind='hist',\n",
    "              title='Average Price for Car and Fuel Type',\n",
    "              color='aqua',\n",
    "              bins=7,\n",
    "              alpha=0.5)\n",
    "plt.show()"
   ]
  }
 ],
 "metadata": {
  "kernelspec": {
   "display_name": "base",
   "language": "python",
   "name": "python3"
  },
  "language_info": {
   "codemirror_mode": {
    "name": "ipython",
    "version": 3
   },
   "file_extension": ".py",
   "mimetype": "text/x-python",
   "name": "python",
   "nbconvert_exporter": "python",
   "pygments_lexer": "ipython3",
   "version": "3.9.13"
  },
  "orig_nbformat": 4
 },
 "nbformat": 4,
 "nbformat_minor": 2
}
